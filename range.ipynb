{
 "cells": [
  {
   "cell_type": "code",
   "execution_count": 12,
   "id": "6a664c72",
   "metadata": {},
   "outputs": [],
   "source": [
    "import pandas as pd\n",
    "import numpy as np"
   ]
  },
  {
   "cell_type": "code",
   "execution_count": 3,
   "id": "631f9f56",
   "metadata": {},
   "outputs": [],
   "source": [
    "df = pd.read_excel(\"bus_data_with_var_and_size.xlsx\")"
   ]
  },
  {
   "cell_type": "code",
   "execution_count": 5,
   "id": "d45dfbb0",
   "metadata": {},
   "outputs": [
    {
     "data": {
      "text/plain": [
       "Index(['Unnamed: 0', 'RouteID', 'RouteName', 'RouteDirection', 'AgencyName',\n",
       "       'ClusterName', 'Metropolin', 'OriginCityName', 'DestinationCityName',\n",
       "       'RouteType', 'ServiceType', 'RouteParticular', 'BusType', 'BusSize',\n",
       "       'NumOfAlternatives', 'RouteLength', 'WeeklyKM', 'AVGPassengersPerWeek',\n",
       "       'StationsInRoute', 'OperationSince', 'UniqueStations',\n",
       "       'UniqueLocations', 'DailyRides(Tuesday)', 'WeekyRides',\n",
       "       'DailyPassengers', 'WeeklyPassengers', 'AVGCommutersPerRide(Weekly)',\n",
       "       'WorkDay - 00:00-03:59', 'WorkDay - 04:00-05:59',\n",
       "       'WorkDay - 06:00-08:59', 'WorkDay - 09:00-11:59',\n",
       "       'WorkDay - 12:00-14:59', 'WorkDay - 15:00-18:59',\n",
       "       'WorkDay - 19:00-23:59', 'Friday - 00:00-03:59', 'Friday - 04:00-05:59',\n",
       "       'Friday - 06:00-08:59', 'Friday - 09:00-11:59', 'Friday - 12:00-14:59',\n",
       "       'Friday - 15:00-18:59', 'Friday - 19:00-23:59',\n",
       "       'Saturday - 00:00-03:59', 'Saturday - 04:00-05:59',\n",
       "       'Saturday - 06:00-08:59', 'Saturday - 09:00-11:59',\n",
       "       'Saturday - 12:00-14:59', 'Saturday - 15:00-18:59',\n",
       "       'Saturday - 19:00-23:59', 'MaxRidership', 'year', 'Q',\n",
       "       'VarianceOfDensity', 'BusCapacity'],\n",
       "      dtype='object')"
      ]
     },
     "execution_count": 5,
     "metadata": {},
     "output_type": "execute_result"
    }
   ],
   "source": [
    "df.columns"
   ]
  },
  {
   "cell_type": "code",
   "execution_count": 13,
   "id": "9f90fcfc",
   "metadata": {},
   "outputs": [],
   "source": [
    "\n",
    "columns_daytime = ['WorkDay - 00:00-03:59', 'WorkDay - 04:00-05:59',\n",
    "       'WorkDay - 06:00-08:59', 'WorkDay - 09:00-11:59',\n",
    "       'WorkDay - 12:00-14:59', 'WorkDay - 15:00-18:59',\n",
    "       'WorkDay - 19:00-23:59', 'Friday - 00:00-03:59', 'Friday - 04:00-05:59',\n",
    "       'Friday - 06:00-08:59', 'Friday - 09:00-11:59', 'Friday - 12:00-14:59',\n",
    "       'Friday - 15:00-18:59', 'Friday - 19:00-23:59',\n",
    "       'Saturday - 00:00-03:59', 'Saturday - 04:00-05:59',\n",
    "       'Saturday - 06:00-08:59', 'Saturday - 09:00-11:59',\n",
    "       'Saturday - 12:00-14:59', 'Saturday - 15:00-18:59',\n",
    "       'Saturday - 19:00-23:59']\n",
    "\n",
    "\n",
    "df['range'] = df[columns_daytime].apply(lambda t: np.nanmax(t) - np.nanmin(t), axis=1)"
   ]
  },
  {
   "cell_type": "code",
   "execution_count": 18,
   "id": "68d990fd",
   "metadata": {},
   "outputs": [],
   "source": [
    "df.to_excel(\"bus_data_with_var_and_size.xlsx\", index=False)"
   ]
  }
 ],
 "metadata": {
  "kernelspec": {
   "display_name": "Python 3 (ipykernel)",
   "language": "python",
   "name": "python3"
  },
  "language_info": {
   "codemirror_mode": {
    "name": "ipython",
    "version": 3
   },
   "file_extension": ".py",
   "mimetype": "text/x-python",
   "name": "python",
   "nbconvert_exporter": "python",
   "pygments_lexer": "ipython3",
   "version": "3.11.3"
  }
 },
 "nbformat": 4,
 "nbformat_minor": 5
}
