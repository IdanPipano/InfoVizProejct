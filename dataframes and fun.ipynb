{
 "cells": [
  {
   "cell_type": "code",
   "execution_count": 21,
   "id": "874aec84",
   "metadata": {},
   "outputs": [
    {
     "name": "stdout",
     "output_type": "stream",
     "text": [
      "[5 5 5 5 5 5 5 1 1 1 1 1 1 1 1 1 1 1 1 1 1]\n"
     ]
    }
   ],
   "source": [
    "import pandas as pd\n",
    "import numpy as np\n",
    "df = pd.read_csv(\"data buses.csv\")\n",
    "columns_daytime = ['WorkDay - 00:00-03:59', 'WorkDay - 04:00-05:59',\n",
    "       'WorkDay - 06:00-08:59', 'WorkDay - 09:00-11:59',\n",
    "       'WorkDay - 12:00-14:59', 'WorkDay - 15:00-18:59',\n",
    "       'WorkDay - 19:00-23:59', 'Friday - 00:00-03:59', 'Friday - 04:00-05:59',\n",
    "       'Friday - 06:00-08:59', 'Friday - 09:00-11:59', 'Friday - 12:00-14:59',\n",
    "       'Friday - 15:00-18:59', 'Friday - 19:00-23:59',\n",
    "       'Saturday - 00:00-03:59', 'Saturday - 04:00-05:59',\n",
    "       'Saturday - 06:00-08:59', 'Saturday - 09:00-11:59',\n",
    "       'Saturday - 12:00-14:59', 'Saturday - 15:00-18:59',\n",
    "       'Saturday - 19:00-23:59']\n",
    "\n",
    "weights = np.array([5] * 7 + [1] * 14)\n",
    "print(weights)\n",
    "\n",
    "df['VarianceOfDensity'] = df[columns_daytime].apply(np.nanvar, axis=1)"
   ]
  },
  {
   "cell_type": "code",
   "execution_count": 22,
   "id": "4b605257",
   "metadata": {},
   "outputs": [
    {
     "data": {
      "text/plain": [
       "0         7.022500\n",
       "1         0.002500\n",
       "2        23.359600\n",
       "3         8.961389\n",
       "4         2.446875\n",
       "           ...    \n",
       "5371     78.914000\n",
       "5372    135.236875\n",
       "5373    152.795764\n",
       "5374     32.075621\n",
       "5375     42.633018\n",
       "Name: VarianceOfDensity, Length: 5376, dtype: float64"
      ]
     },
     "execution_count": 22,
     "metadata": {},
     "output_type": "execute_result"
    }
   ],
   "source": [
    "df['VarianceOfDensity']"
   ]
  },
  {
   "cell_type": "code",
   "execution_count": 29,
   "id": "31f47d6e",
   "metadata": {},
   "outputs": [],
   "source": [
    "df['BusSize'].unique()\n",
    "d = dict()\n",
    "d['מידיבוס'] = 35\n",
    "d['לא מוגדר'] = np.nan\n",
    "d['מפרקי'] = 133\n",
    "d['מיניבוס'] = 18\n",
    "d['אוטובוס'] = 60"
   ]
  },
  {
   "cell_type": "code",
   "execution_count": 31,
   "id": "6fa80a0f",
   "metadata": {},
   "outputs": [],
   "source": [
    "df['BusCapacity'] = df['BusSize'].apply(lambda s: d[s])"
   ]
  },
  {
   "cell_type": "code",
   "execution_count": 33,
   "id": "83ee3a16",
   "metadata": {},
   "outputs": [],
   "source": [
    "df.to_csv('bus_data_with_var_and_size.csv', encoding='utf-8-sig')"
   ]
  },
  {
   "cell_type": "code",
   "execution_count": 3,
   "id": "bdf2a7b3",
   "metadata": {},
   "outputs": [
    {
     "data": {
      "text/plain": [
       "array(['מעל שנה וחצי', 'לפני 12 חודשים', 'לפני 6 חודשים',\n",
       "       'לפני 10 חודשים', 'לפני 18 חודשים', 'לפני 7 חודשים',\n",
       "       'לפני 17 חודשים', 'לפני 5 חודשים', 'לפני 9 חודשים',\n",
       "       'לפני 4 חודשים', 'לפני 13 חודשים', 'לפני 11 חודשים',\n",
       "       'לפני 14 חודשים', 'לפני 8 חודשים', 'לפני 16 חודשים',\n",
       "       'לפני 2 חודשים'], dtype=object)"
      ]
     },
     "execution_count": 3,
     "metadata": {},
     "output_type": "execute_result"
    }
   ],
   "source": [
    "import pandas as pd\n",
    "import numpy as np\n",
    "df = pd.read_csv(\"data buses.csv\")\n",
    "df['OperationSince'].unique()"
   ]
  },
  {
   "cell_type": "code",
   "execution_count": 17,
   "id": "5804ccaf",
   "metadata": {},
   "outputs": [],
   "source": [
    "import pandas as pd\n",
    "import numpy as np\n",
    "df = pd.read_csv(\"data buses pivoted.csv\")\n",
    "df['Time'] = df['Time'].apply(lambda s: s.split()[2])"
   ]
  },
  {
   "cell_type": "code",
   "execution_count": 18,
   "id": "c53dc811",
   "metadata": {},
   "outputs": [],
   "source": [
    "df.to_csv('buses_pivoted.csv', encoding='utf-8-sig')"
   ]
  },
  {
   "cell_type": "code",
   "execution_count": 9,
   "id": "10bebbc7",
   "metadata": {},
   "outputs": [
    {
     "data": {
      "text/plain": [
       "5376"
      ]
     },
     "execution_count": 9,
     "metadata": {},
     "output_type": "execute_result"
    }
   ],
   "source": [
    "len(df[['RouteID', 'RouteDirection']].drop_duplicates())\n"
   ]
  },
  {
   "cell_type": "code",
   "execution_count": 10,
   "id": "6cfead13",
   "metadata": {},
   "outputs": [
    {
     "data": {
      "text/html": [
       "<div>\n",
       "<style scoped>\n",
       "    .dataframe tbody tr th:only-of-type {\n",
       "        vertical-align: middle;\n",
       "    }\n",
       "\n",
       "    .dataframe tbody tr th {\n",
       "        vertical-align: top;\n",
       "    }\n",
       "\n",
       "    .dataframe thead th {\n",
       "        text-align: right;\n",
       "    }\n",
       "</style>\n",
       "<table border=\"1\" class=\"dataframe\">\n",
       "  <thead>\n",
       "    <tr style=\"text-align: right;\">\n",
       "      <th></th>\n",
       "      <th>RouteID</th>\n",
       "      <th>RouteName</th>\n",
       "      <th>RouteDirection</th>\n",
       "      <th>AgencyName</th>\n",
       "      <th>ClusterName</th>\n",
       "      <th>Metropolin</th>\n",
       "      <th>OriginCityName</th>\n",
       "      <th>DestinationCityName</th>\n",
       "      <th>RouteType</th>\n",
       "      <th>ServiceType</th>\n",
       "      <th>...</th>\n",
       "      <th>Saturday - 00:00-03:59</th>\n",
       "      <th>Saturday - 04:00-05:59</th>\n",
       "      <th>Saturday - 06:00-08:59</th>\n",
       "      <th>Saturday - 09:00-11:59</th>\n",
       "      <th>Saturday - 12:00-14:59</th>\n",
       "      <th>Saturday - 15:00-18:59</th>\n",
       "      <th>Saturday - 19:00-23:59</th>\n",
       "      <th>MaxRidership</th>\n",
       "      <th>year</th>\n",
       "      <th>Q</th>\n",
       "    </tr>\n",
       "  </thead>\n",
       "  <tbody>\n",
       "    <tr>\n",
       "      <th>4050</th>\n",
       "      <td>28003</td>\n",
       "      <td>3</td>\n",
       "      <td>1</td>\n",
       "      <td>דן</td>\n",
       "      <td>תל אביב</td>\n",
       "      <td>גוש דן</td>\n",
       "      <td>בני ברק</td>\n",
       "      <td>בני ברק</td>\n",
       "      <td>עירוני</td>\n",
       "      <td>מקומי מאסף</td>\n",
       "      <td>...</td>\n",
       "      <td>NaN</td>\n",
       "      <td>NaN</td>\n",
       "      <td>NaN</td>\n",
       "      <td>NaN</td>\n",
       "      <td>NaN</td>\n",
       "      <td>9.0</td>\n",
       "      <td>16.7</td>\n",
       "      <td>ימי חול - 12:00-14:59</td>\n",
       "      <td>2022</td>\n",
       "      <td>4</td>\n",
       "    </tr>\n",
       "    <tr>\n",
       "      <th>4051</th>\n",
       "      <td>28003</td>\n",
       "      <td>3</td>\n",
       "      <td>2</td>\n",
       "      <td>דן</td>\n",
       "      <td>תל אביב</td>\n",
       "      <td>גוש דן</td>\n",
       "      <td>בני ברק</td>\n",
       "      <td>בני ברק</td>\n",
       "      <td>עירוני</td>\n",
       "      <td>מקומי מאסף</td>\n",
       "      <td>...</td>\n",
       "      <td>NaN</td>\n",
       "      <td>NaN</td>\n",
       "      <td>NaN</td>\n",
       "      <td>NaN</td>\n",
       "      <td>NaN</td>\n",
       "      <td>12.4</td>\n",
       "      <td>15.2</td>\n",
       "      <td>ימי חול - 12:00-14:59</td>\n",
       "      <td>2022</td>\n",
       "      <td>4</td>\n",
       "    </tr>\n",
       "    <tr>\n",
       "      <th>5162</th>\n",
       "      <td>62003</td>\n",
       "      <td>3</td>\n",
       "      <td>1</td>\n",
       "      <td>דן</td>\n",
       "      <td>תל אביב</td>\n",
       "      <td>גוש דן</td>\n",
       "      <td>תל אביב יפו</td>\n",
       "      <td>תל אביב יפו</td>\n",
       "      <td>עירוני</td>\n",
       "      <td>מקומי מאסף</td>\n",
       "      <td>...</td>\n",
       "      <td>NaN</td>\n",
       "      <td>NaN</td>\n",
       "      <td>NaN</td>\n",
       "      <td>NaN</td>\n",
       "      <td>NaN</td>\n",
       "      <td>8.1</td>\n",
       "      <td>13.2</td>\n",
       "      <td>שישי - 12:00-14:59</td>\n",
       "      <td>2022</td>\n",
       "      <td>4</td>\n",
       "    </tr>\n",
       "    <tr>\n",
       "      <th>5163</th>\n",
       "      <td>62003</td>\n",
       "      <td>3</td>\n",
       "      <td>2</td>\n",
       "      <td>דן</td>\n",
       "      <td>תל אביב</td>\n",
       "      <td>גוש דן</td>\n",
       "      <td>תל אביב יפו</td>\n",
       "      <td>תל אביב יפו</td>\n",
       "      <td>עירוני</td>\n",
       "      <td>מקומי מאסף</td>\n",
       "      <td>...</td>\n",
       "      <td>NaN</td>\n",
       "      <td>NaN</td>\n",
       "      <td>NaN</td>\n",
       "      <td>NaN</td>\n",
       "      <td>NaN</td>\n",
       "      <td>9.9</td>\n",
       "      <td>13.2</td>\n",
       "      <td>ימי חול - 12:00-14:59</td>\n",
       "      <td>2022</td>\n",
       "      <td>4</td>\n",
       "    </tr>\n",
       "  </tbody>\n",
       "</table>\n",
       "<p>4 rows × 50 columns</p>\n",
       "</div>"
      ],
      "text/plain": [
       "      RouteID  RouteName  RouteDirection AgencyName ClusterName Metropolin   \n",
       "4050    28003          3               1         דן     תל אביב     גוש דן  \\\n",
       "4051    28003          3               2         דן     תל אביב     גוש דן   \n",
       "5162    62003          3               1         דן     תל אביב     גוש דן   \n",
       "5163    62003          3               2         דן     תל אביב     גוש דן   \n",
       "\n",
       "     OriginCityName DestinationCityName RouteType ServiceType  ...   \n",
       "4050        בני ברק             בני ברק    עירוני  מקומי מאסף  ...  \\\n",
       "4051        בני ברק             בני ברק    עירוני  מקומי מאסף  ...   \n",
       "5162    תל אביב יפו         תל אביב יפו    עירוני  מקומי מאסף  ...   \n",
       "5163    תל אביב יפו         תל אביב יפו    עירוני  מקומי מאסף  ...   \n",
       "\n",
       "     Saturday - 00:00-03:59 Saturday - 04:00-05:59 Saturday - 06:00-08:59   \n",
       "4050                    NaN                    NaN                    NaN  \\\n",
       "4051                    NaN                    NaN                    NaN   \n",
       "5162                    NaN                    NaN                    NaN   \n",
       "5163                    NaN                    NaN                    NaN   \n",
       "\n",
       "      Saturday - 09:00-11:59  Saturday - 12:00-14:59  Saturday - 15:00-18:59   \n",
       "4050                     NaN                     NaN                     9.0  \\\n",
       "4051                     NaN                     NaN                    12.4   \n",
       "5162                     NaN                     NaN                     8.1   \n",
       "5163                     NaN                     NaN                     9.9   \n",
       "\n",
       "      Saturday - 19:00-23:59           MaxRidership  year  Q  \n",
       "4050                    16.7  ימי חול - 12:00-14:59  2022  4  \n",
       "4051                    15.2  ימי חול - 12:00-14:59  2022  4  \n",
       "5162                    13.2     שישי - 12:00-14:59  2022  4  \n",
       "5163                    13.2  ימי חול - 12:00-14:59  2022  4  \n",
       "\n",
       "[4 rows x 50 columns]"
      ]
     },
     "execution_count": 10,
     "metadata": {},
     "output_type": "execute_result"
    }
   ],
   "source": [
    "df[(df['AgencyName'] == 'דן') & ( df['RouteName']==3)]"
   ]
  },
  {
   "cell_type": "code",
   "execution_count": 70,
   "id": "2c01b49c",
   "metadata": {},
   "outputs": [],
   "source": [
    "df = pd.read_csv(\"data buses pivoted.csv\")"
   ]
  },
  {
   "cell_type": "code",
   "execution_count": 71,
   "id": "c13ce5cf",
   "metadata": {},
   "outputs": [],
   "source": [
    "df['dayType'] = df['Time'].apply(lambda s: s.split()[0])\n",
    "df['timeInDay'] = df['Time'].apply(lambda s: s.split()[2])"
   ]
  },
  {
   "cell_type": "code",
   "execution_count": 72,
   "id": "3886103a",
   "metadata": {},
   "outputs": [
    {
     "data": {
      "text/plain": [
       "Agency Name                              נתיב אקספרס\n",
       "AVG Passengers Per Week                          0.4\n",
       "Bus Size                                     אוטובוס\n",
       "Bus Type                                   בינעירוני\n",
       "Cluster Name                                   הגליל\n",
       "Destination City Name                        בני ברק\n",
       "Max Ridership                  ימי חול - 12:00-14:59\n",
       "Metropolin                                 בין מחוזי\n",
       "Operation Since                         מעל שנה וחצי\n",
       "Origin City Name                                 צפת\n",
       "Route ID                                       10981\n",
       "Route Particular                                סדיר\n",
       "Route Type                                 בינעירוני\n",
       "Service Type                                    מהיר\n",
       "Time                           WorkDay - 12:00-14:59\n",
       "Unique Locations                                 NaN\n",
       "Year                                            2022\n",
       "AVGCommutersPerRide(Weekly)                     68.2\n",
       "AVGPaysPerRide                                 200.0\n",
       "Daily Passengers                               184.0\n",
       "DailyRides(Tuesday)                               11\n",
       "Num Of Alternatives                                3\n",
       "Q                                                  4\n",
       "Route Direction                                    2\n",
       "Route Length                                   165.9\n",
       "Route Name                                       981\n",
       "Stations In Route                                 37\n",
       "Unique Stations                                  NaN\n",
       "Weekly KM                                    3119.25\n",
       "Weekly Passengers                             1295.4\n",
       "Weeky Rides                                       19\n",
       "dayType                                      WorkDay\n",
       "timeInDay                                12:00-14:59\n",
       "Name: 19590, dtype: object"
      ]
     },
     "execution_count": 72,
     "metadata": {},
     "output_type": "execute_result"
    }
   ],
   "source": [
    "df.iloc[19590]"
   ]
  }
 ],
 "metadata": {
  "kernelspec": {
   "display_name": "Python 3 (ipykernel)",
   "language": "python",
   "name": "python3"
  },
  "language_info": {
   "codemirror_mode": {
    "name": "ipython",
    "version": 3
   },
   "file_extension": ".py",
   "mimetype": "text/x-python",
   "name": "python",
   "nbconvert_exporter": "python",
   "pygments_lexer": "ipython3",
   "version": "3.11.3"
  }
 },
 "nbformat": 4,
 "nbformat_minor": 5
}
