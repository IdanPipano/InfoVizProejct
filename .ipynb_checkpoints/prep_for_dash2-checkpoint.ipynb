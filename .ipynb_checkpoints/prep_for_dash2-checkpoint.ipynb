{
 "cells": [
  {
   "cell_type": "code",
   "execution_count": 1,
   "metadata": {
    "ExecuteTime": {
     "end_time": "2023-07-03T11:06:23.997019600Z",
     "start_time": "2023-07-03T11:06:23.578475200Z"
    }
   },
   "outputs": [],
   "source": [
    "import pandas as pd"
   ]
  },
  {
   "cell_type": "code",
   "execution_count": 2,
   "metadata": {
    "ExecuteTime": {
     "end_time": "2023-07-03T11:07:28.976198500Z",
     "start_time": "2023-07-03T11:07:26.771685200Z"
    }
   },
   "outputs": [],
   "source": [
    "df = pd.read_excel(\"bus_data_for_dash2.xlsx\")"
   ]
  },
  {
   "cell_type": "code",
   "execution_count": 18,
   "metadata": {},
   "outputs": [
    {
     "data": {
      "text/html": [
       "<div>\n",
       "<style scoped>\n",
       "    .dataframe tbody tr th:only-of-type {\n",
       "        vertical-align: middle;\n",
       "    }\n",
       "\n",
       "    .dataframe tbody tr th {\n",
       "        vertical-align: top;\n",
       "    }\n",
       "\n",
       "    .dataframe thead th {\n",
       "        text-align: right;\n",
       "    }\n",
       "</style>\n",
       "<table border=\"1\" class=\"dataframe\">\n",
       "  <thead>\n",
       "    <tr style=\"text-align: right;\">\n",
       "      <th></th>\n",
       "      <th>Unnamed: 0.1</th>\n",
       "      <th>Unnamed: 0</th>\n",
       "      <th>RouteID</th>\n",
       "      <th>RouteName</th>\n",
       "      <th>RouteDirection</th>\n",
       "      <th>AgencyName</th>\n",
       "      <th>ClusterName</th>\n",
       "      <th>Metropolin</th>\n",
       "      <th>OriginCityName</th>\n",
       "      <th>DestinationCityName</th>\n",
       "      <th>...</th>\n",
       "      <th>Saturday - 12:00-14:59</th>\n",
       "      <th>Saturday - 15:00-18:59</th>\n",
       "      <th>Saturday - 19:00-23:59</th>\n",
       "      <th>MaxRidership</th>\n",
       "      <th>year</th>\n",
       "      <th>Q</th>\n",
       "      <th>VarianceOfDensity</th>\n",
       "      <th>BusCapacity</th>\n",
       "      <th>passengers_per_allowed</th>\n",
       "      <th>routeID_and_direction</th>\n",
       "    </tr>\n",
       "  </thead>\n",
       "  <tbody>\n",
       "    <tr>\n",
       "      <th>1811</th>\n",
       "      <td>1811</td>\n",
       "      <td>1812</td>\n",
       "      <td>12311</td>\n",
       "      <td>311</td>\n",
       "      <td>2</td>\n",
       "      <td>קווים</td>\n",
       "      <td>חשמונאים</td>\n",
       "      <td>י-ם</td>\n",
       "      <td>ירושלים</td>\n",
       "      <td>מודיעין עילית</td>\n",
       "      <td>...</td>\n",
       "      <td>NaN</td>\n",
       "      <td>NaN</td>\n",
       "      <td>21.2</td>\n",
       "      <td>שבת - 19:00-23:59</td>\n",
       "      <td>2022</td>\n",
       "      <td>4</td>\n",
       "      <td>0.000000</td>\n",
       "      <td>60.0</td>\n",
       "      <td>0.353333</td>\n",
       "      <td>12311 direction2</td>\n",
       "    </tr>\n",
       "    <tr>\n",
       "      <th>666</th>\n",
       "      <td>666</td>\n",
       "      <td>666</td>\n",
       "      <td>10637</td>\n",
       "      <td>637</td>\n",
       "      <td>2</td>\n",
       "      <td>תנופה</td>\n",
       "      <td>פרוזדור ירושלים</td>\n",
       "      <td>י-ם</td>\n",
       "      <td>בית שמש</td>\n",
       "      <td>ירושלים</td>\n",
       "      <td>...</td>\n",
       "      <td>NaN</td>\n",
       "      <td>19.0</td>\n",
       "      <td>7.5</td>\n",
       "      <td>שבת - 15:00-18:59</td>\n",
       "      <td>2022</td>\n",
       "      <td>4</td>\n",
       "      <td>27.486667</td>\n",
       "      <td>60.0</td>\n",
       "      <td>0.149833</td>\n",
       "      <td>10637 direction2</td>\n",
       "    </tr>\n",
       "    <tr>\n",
       "      <th>665</th>\n",
       "      <td>665</td>\n",
       "      <td>665</td>\n",
       "      <td>10637</td>\n",
       "      <td>637</td>\n",
       "      <td>1</td>\n",
       "      <td>תנופה</td>\n",
       "      <td>פרוזדור ירושלים</td>\n",
       "      <td>י-ם</td>\n",
       "      <td>ירושלים</td>\n",
       "      <td>בית שמש</td>\n",
       "      <td>...</td>\n",
       "      <td>NaN</td>\n",
       "      <td>NaN</td>\n",
       "      <td>3.5</td>\n",
       "      <td>שישי - 12:00-14:59</td>\n",
       "      <td>2022</td>\n",
       "      <td>4</td>\n",
       "      <td>10.890000</td>\n",
       "      <td>60.0</td>\n",
       "      <td>0.102500</td>\n",
       "      <td>10637 direction1</td>\n",
       "    </tr>\n",
       "    <tr>\n",
       "      <th>660</th>\n",
       "      <td>660</td>\n",
       "      <td>660</td>\n",
       "      <td>10629</td>\n",
       "      <td>629</td>\n",
       "      <td>2</td>\n",
       "      <td>תנופה</td>\n",
       "      <td>פרוזדור ירושלים</td>\n",
       "      <td>י-ם</td>\n",
       "      <td>בית שמש</td>\n",
       "      <td>ירושלים</td>\n",
       "      <td>...</td>\n",
       "      <td>NaN</td>\n",
       "      <td>10.8</td>\n",
       "      <td>36.3</td>\n",
       "      <td>שבת - 19:00-23:59</td>\n",
       "      <td>2022</td>\n",
       "      <td>4</td>\n",
       "      <td>108.500000</td>\n",
       "      <td>60.0</td>\n",
       "      <td>0.415238</td>\n",
       "      <td>10629 direction2</td>\n",
       "    </tr>\n",
       "    <tr>\n",
       "      <th>659</th>\n",
       "      <td>659</td>\n",
       "      <td>659</td>\n",
       "      <td>10629</td>\n",
       "      <td>629</td>\n",
       "      <td>1</td>\n",
       "      <td>תנופה</td>\n",
       "      <td>פרוזדור ירושלים</td>\n",
       "      <td>י-ם</td>\n",
       "      <td>ירושלים</td>\n",
       "      <td>בית שמש</td>\n",
       "      <td>...</td>\n",
       "      <td>NaN</td>\n",
       "      <td>9.9</td>\n",
       "      <td>43.3</td>\n",
       "      <td>שבת - 19:00-23:59</td>\n",
       "      <td>2022</td>\n",
       "      <td>4</td>\n",
       "      <td>216.346667</td>\n",
       "      <td>60.0</td>\n",
       "      <td>0.508333</td>\n",
       "      <td>10629 direction1</td>\n",
       "    </tr>\n",
       "    <tr>\n",
       "      <th>...</th>\n",
       "      <td>...</td>\n",
       "      <td>...</td>\n",
       "      <td>...</td>\n",
       "      <td>...</td>\n",
       "      <td>...</td>\n",
       "      <td>...</td>\n",
       "      <td>...</td>\n",
       "      <td>...</td>\n",
       "      <td>...</td>\n",
       "      <td>...</td>\n",
       "      <td>...</td>\n",
       "      <td>...</td>\n",
       "      <td>...</td>\n",
       "      <td>...</td>\n",
       "      <td>...</td>\n",
       "      <td>...</td>\n",
       "      <td>...</td>\n",
       "      <td>...</td>\n",
       "      <td>...</td>\n",
       "      <td>...</td>\n",
       "      <td>...</td>\n",
       "    </tr>\n",
       "    <tr>\n",
       "      <th>5225</th>\n",
       "      <td>5225</td>\n",
       "      <td>5226</td>\n",
       "      <td>72001</td>\n",
       "      <td>1</td>\n",
       "      <td>3</td>\n",
       "      <td>קווים</td>\n",
       "      <td>ביתר עילית ועמק האלה</td>\n",
       "      <td>י-ם</td>\n",
       "      <td>ביתר עילית</td>\n",
       "      <td>ביתר עילית</td>\n",
       "      <td>...</td>\n",
       "      <td>NaN</td>\n",
       "      <td>10.3</td>\n",
       "      <td>44.1</td>\n",
       "      <td>ימי חול - 12:00-14:59</td>\n",
       "      <td>2022</td>\n",
       "      <td>4</td>\n",
       "      <td>742.011389</td>\n",
       "      <td>60.0</td>\n",
       "      <td>1.255085</td>\n",
       "      <td>72001 direction3</td>\n",
       "    </tr>\n",
       "    <tr>\n",
       "      <th>2882</th>\n",
       "      <td>2882</td>\n",
       "      <td>2883</td>\n",
       "      <td>17055</td>\n",
       "      <td>55</td>\n",
       "      <td>3</td>\n",
       "      <td>אגד</td>\n",
       "      <td>ירושלים עירוני</td>\n",
       "      <td>י-ם</td>\n",
       "      <td>ירושלים</td>\n",
       "      <td>ירושלים</td>\n",
       "      <td>...</td>\n",
       "      <td>NaN</td>\n",
       "      <td>26.7</td>\n",
       "      <td>72.5</td>\n",
       "      <td>שישי - 12:00-14:59</td>\n",
       "      <td>2022</td>\n",
       "      <td>4</td>\n",
       "      <td>2290.829097</td>\n",
       "      <td>133.0</td>\n",
       "      <td>0.953856</td>\n",
       "      <td>17055 direction3</td>\n",
       "    </tr>\n",
       "    <tr>\n",
       "      <th>5188</th>\n",
       "      <td>5188</td>\n",
       "      <td>5189</td>\n",
       "      <td>67003</td>\n",
       "      <td>3</td>\n",
       "      <td>3</td>\n",
       "      <td>סופרבוס</td>\n",
       "      <td>מטרונית חיפה</td>\n",
       "      <td>מטרופולין חיפה</td>\n",
       "      <td>קרית מוצקין</td>\n",
       "      <td>קרית מוצקין</td>\n",
       "      <td>...</td>\n",
       "      <td>NaN</td>\n",
       "      <td>21.6</td>\n",
       "      <td>38.1</td>\n",
       "      <td>שישי - 12:00-14:59</td>\n",
       "      <td>2022</td>\n",
       "      <td>4</td>\n",
       "      <td>2130.768542</td>\n",
       "      <td>133.0</td>\n",
       "      <td>0.611970</td>\n",
       "      <td>67003 direction3</td>\n",
       "    </tr>\n",
       "    <tr>\n",
       "      <th>3634</th>\n",
       "      <td>3634</td>\n",
       "      <td>3635</td>\n",
       "      <td>23041</td>\n",
       "      <td>41</td>\n",
       "      <td>1</td>\n",
       "      <td>אגד</td>\n",
       "      <td>ירושלים עירוני</td>\n",
       "      <td>י-ם</td>\n",
       "      <td>ירושלים</td>\n",
       "      <td>ירושלים</td>\n",
       "      <td>...</td>\n",
       "      <td>NaN</td>\n",
       "      <td>NaN</td>\n",
       "      <td>NaN</td>\n",
       "      <td>ימי חול - 12:00-14:59</td>\n",
       "      <td>2022</td>\n",
       "      <td>4</td>\n",
       "      <td>0.000000</td>\n",
       "      <td>60.0</td>\n",
       "      <td>NaN</td>\n",
       "      <td>23041 direction1</td>\n",
       "    </tr>\n",
       "    <tr>\n",
       "      <th>3635</th>\n",
       "      <td>3635</td>\n",
       "      <td>3636</td>\n",
       "      <td>23041</td>\n",
       "      <td>41</td>\n",
       "      <td>2</td>\n",
       "      <td>אגד</td>\n",
       "      <td>ירושלים עירוני</td>\n",
       "      <td>י-ם</td>\n",
       "      <td>ירושלים</td>\n",
       "      <td>ירושלים</td>\n",
       "      <td>...</td>\n",
       "      <td>NaN</td>\n",
       "      <td>NaN</td>\n",
       "      <td>NaN</td>\n",
       "      <td>ימי חול - 06:00-08:59</td>\n",
       "      <td>2022</td>\n",
       "      <td>4</td>\n",
       "      <td>0.000000</td>\n",
       "      <td>60.0</td>\n",
       "      <td>NaN</td>\n",
       "      <td>23041 direction2</td>\n",
       "    </tr>\n",
       "  </tbody>\n",
       "</table>\n",
       "<p>5375 rows × 56 columns</p>\n",
       "</div>"
      ],
      "text/plain": [
       "      Unnamed: 0.1  Unnamed: 0  RouteID  RouteName  RouteDirection AgencyName   \n",
       "1811          1811        1812    12311        311               2      קווים  \\\n",
       "666            666         666    10637        637               2      תנופה   \n",
       "665            665         665    10637        637               1      תנופה   \n",
       "660            660         660    10629        629               2      תנופה   \n",
       "659            659         659    10629        629               1      תנופה   \n",
       "...            ...         ...      ...        ...             ...        ...   \n",
       "5225          5225        5226    72001          1               3      קווים   \n",
       "2882          2882        2883    17055         55               3        אגד   \n",
       "5188          5188        5189    67003          3               3    סופרבוס   \n",
       "3634          3634        3635    23041         41               1        אגד   \n",
       "3635          3635        3636    23041         41               2        אגד   \n",
       "\n",
       "               ClusterName      Metropolin OriginCityName DestinationCityName   \n",
       "1811              חשמונאים             י-ם        ירושלים       מודיעין עילית  \\\n",
       "666        פרוזדור ירושלים             י-ם        בית שמש             ירושלים   \n",
       "665        פרוזדור ירושלים             י-ם        ירושלים             בית שמש   \n",
       "660        פרוזדור ירושלים             י-ם        בית שמש             ירושלים   \n",
       "659        פרוזדור ירושלים             י-ם        ירושלים             בית שמש   \n",
       "...                    ...             ...            ...                 ...   \n",
       "5225  ביתר עילית ועמק האלה             י-ם     ביתר עילית          ביתר עילית   \n",
       "2882        ירושלים עירוני             י-ם        ירושלים             ירושלים   \n",
       "5188          מטרונית חיפה  מטרופולין חיפה    קרית מוצקין         קרית מוצקין   \n",
       "3634        ירושלים עירוני             י-ם        ירושלים             ירושלים   \n",
       "3635        ירושלים עירוני             י-ם        ירושלים             ירושלים   \n",
       "\n",
       "      ... Saturday - 12:00-14:59 Saturday - 15:00-18:59   \n",
       "1811  ...                    NaN                    NaN  \\\n",
       "666   ...                    NaN                   19.0   \n",
       "665   ...                    NaN                    NaN   \n",
       "660   ...                    NaN                   10.8   \n",
       "659   ...                    NaN                    9.9   \n",
       "...   ...                    ...                    ...   \n",
       "5225  ...                    NaN                   10.3   \n",
       "2882  ...                    NaN                   26.7   \n",
       "5188  ...                    NaN                   21.6   \n",
       "3634  ...                    NaN                    NaN   \n",
       "3635  ...                    NaN                    NaN   \n",
       "\n",
       "     Saturday - 19:00-23:59           MaxRidership  year  Q   \n",
       "1811                   21.2      שבת - 19:00-23:59  2022  4  \\\n",
       "666                     7.5      שבת - 15:00-18:59  2022  4   \n",
       "665                     3.5     שישי - 12:00-14:59  2022  4   \n",
       "660                    36.3      שבת - 19:00-23:59  2022  4   \n",
       "659                    43.3      שבת - 19:00-23:59  2022  4   \n",
       "...                     ...                    ...   ... ..   \n",
       "5225                   44.1  ימי חול - 12:00-14:59  2022  4   \n",
       "2882                   72.5     שישי - 12:00-14:59  2022  4   \n",
       "5188                   38.1     שישי - 12:00-14:59  2022  4   \n",
       "3634                    NaN  ימי חול - 12:00-14:59  2022  4   \n",
       "3635                    NaN  ימי חול - 06:00-08:59  2022  4   \n",
       "\n",
       "      VarianceOfDensity  BusCapacity  passengers_per_allowed   \n",
       "1811           0.000000         60.0                0.353333  \\\n",
       "666           27.486667         60.0                0.149833   \n",
       "665           10.890000         60.0                0.102500   \n",
       "660          108.500000         60.0                0.415238   \n",
       "659          216.346667         60.0                0.508333   \n",
       "...                 ...          ...                     ...   \n",
       "5225         742.011389         60.0                1.255085   \n",
       "2882        2290.829097        133.0                0.953856   \n",
       "5188        2130.768542        133.0                0.611970   \n",
       "3634           0.000000         60.0                     NaN   \n",
       "3635           0.000000         60.0                     NaN   \n",
       "\n",
       "      routeID_and_direction  \n",
       "1811       12311 direction2  \n",
       "666        10637 direction2  \n",
       "665        10637 direction1  \n",
       "660        10629 direction2  \n",
       "659        10629 direction1  \n",
       "...                     ...  \n",
       "5225       72001 direction3  \n",
       "2882       17055 direction3  \n",
       "5188       67003 direction3  \n",
       "3634       23041 direction1  \n",
       "3635       23041 direction2  \n",
       "\n",
       "[5375 rows x 56 columns]"
      ]
     },
     "execution_count": 18,
     "metadata": {},
     "output_type": "execute_result"
    }
   ],
   "source": [
    "df.sort_values(['DailyPassengers'])"
   ]
  },
  {
   "cell_type": "code",
   "execution_count": 17,
   "metadata": {
    "ExecuteTime": {
     "end_time": "2023-07-03T11:34:31.476388400Z",
     "start_time": "2023-07-03T11:34:31.453576700Z"
    }
   },
   "outputs": [],
   "source": [
    "df[\"passengers_per_allowed\"] = df[\"WeeklyPassengers\"] / df[\"BusCapacity\"] / df[\"WeekyRides\"]"
   ]
  },
  {
   "cell_type": "code",
   "execution_count": 19,
   "metadata": {
    "ExecuteTime": {
     "end_time": "2023-07-03T11:34:36.737725Z",
     "start_time": "2023-07-03T11:34:36.715363Z"
    }
   },
   "outputs": [
    {
     "data": {
      "text/plain": [
       "count    5349.000000\n",
       "mean        0.336102\n",
       "std         0.341269\n",
       "min         0.009848\n",
       "25%         0.160808\n",
       "50%         0.268800\n",
       "75%         0.426380\n",
       "max        14.148333\n",
       "Name: passengers_per_allowed, dtype: float64"
      ]
     },
     "execution_count": 19,
     "metadata": {},
     "output_type": "execute_result"
    }
   ],
   "source": [
    "df[\"passengers_per_allowed\"].describe()"
   ]
  },
  {
   "cell_type": "code",
   "execution_count": 20,
   "metadata": {
    "ExecuteTime": {
     "end_time": "2023-07-03T11:35:27.235764100Z",
     "start_time": "2023-07-03T11:35:26.461220400Z"
    }
   },
   "outputs": [
    {
     "data": {
      "text/plain": [
       "<Axes: >"
      ]
     },
     "execution_count": 20,
     "metadata": {},
     "output_type": "execute_result"
    },
    {
     "data": {
      "image/png": "[encoded data removed]",
      "text/plain": [
       "<Figure size 640x480 with 1 Axes>"
      ]
     },
     "metadata": {},
     "output_type": "display_data"
    }
   ],
   "source": [
    "df[\"passengers_per_allowed\"].hist()"
   ]
  },
  {
   "cell_type": "code",
   "execution_count": 13,
   "metadata": {
    "ExecuteTime": {
     "end_time": "2023-07-03T11:12:46.965484600Z",
     "start_time": "2023-07-03T11:12:46.945668800Z"
    }
   },
   "outputs": [],
   "source": [
    "df[\"routeID_and_direction\"] = df[\"RouteID\"].astype(str) + \" direction\" + df[\"RouteDirection\"].astype(str)"
   ]
  },
  {
   "cell_type": "code",
   "execution_count": 14,
   "metadata": {
    "ExecuteTime": {
     "end_time": "2023-07-03T11:12:49.306768500Z",
     "start_time": "2023-07-03T11:12:49.289981600Z"
    }
   },
   "outputs": [
    {
     "data": {
      "text/plain": [
       "0       10003 direction1\n",
       "1       10006 direction1\n",
       "2       10006 direction3\n",
       "3       10007 direction1\n",
       "4       10007 direction2\n",
       "              ...       \n",
       "5370    98005 direction2\n",
       "5371    99002 direction1\n",
       "5372    99002 direction2\n",
       "5373    99005 direction1\n",
       "5374    99005 direction2\n",
       "Name: routeID_and_direction, Length: 5375, dtype: object"
      ]
     },
     "execution_count": 14,
     "metadata": {},
     "output_type": "execute_result"
    }
   ],
   "source": [
    "df[\"routeID_and_direction\"]"
   ]
  },
  {
   "cell_type": "code",
   "execution_count": 16,
   "metadata": {
    "ExecuteTime": {
     "end_time": "2023-07-03T11:13:34.094090100Z",
     "start_time": "2023-07-03T11:13:29.672551900Z"
    }
   },
   "outputs": [],
   "source": [
    "df.to_excel(\"bus_data_for_dash2.xlsx\")"
   ]
  },
  {
   "cell_type": "code",
   "execution_count": null,
   "metadata": {},
   "outputs": [],
   "source": []
  }
 ],
 "metadata": {
  "kernelspec": {
   "display_name": "Python 3 (ipykernel)",
   "language": "python",
   "name": "python3"
  },
  "language_info": {
   "codemirror_mode": {
    "name": "ipython",
    "version": 3
   },
   "file_extension": ".py",
   "mimetype": "text/x-python",
   "name": "python",
   "nbconvert_exporter": "python",
   "pygments_lexer": "ipython3",
   "version": "3.11.3"
  }
 },
 "nbformat": 4,
 "nbformat_minor": 1
}
